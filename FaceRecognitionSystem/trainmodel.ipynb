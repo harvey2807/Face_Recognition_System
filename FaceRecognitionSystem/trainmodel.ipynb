{
 "cells": [
  {
   "cell_type": "code",
   "execution_count": 3,
   "id": "3bcf348e23a09522",
   "metadata": {
    "ExecuteTime": {
     "end_time": "2024-12-17T07:33:54.049483Z",
     "start_time": "2024-12-17T07:33:44.380326Z"
    }
   },
   "outputs": [
    {
     "name": "stderr",
     "output_type": "stream",
     "text": [
      "C:\\Users\\dttan\\AppData\\Roaming\\Python\\Python312\\site-packages\\albumentations\\__init__.py:24: UserWarning: A new version of Albumentations is available: 1.4.24 (you have 1.4.22). Upgrade using: pip install -U albumentations. To disable automatic update checks, set the environment variable NO_ALBUMENTATIONS_UPDATE to 1.\n",
      "  check_for_updates()\n"
     ]
    }
   ],
   "source": [
    "import insightface\n",
    "import numpy as np\n",
    "import cv2 \n",
    "import os\n",
    "from os import listdir\n",
    "from os.path import isfile, join\n",
    "from keras.models import load_model\n",
    "from insightface.app import FaceAnalysis\n",
    "from keras.models import Model\n",
    "from keras.layers import Dense, GlobalMaxPooling2D, Input\n",
    "from keras.optimizers import Adam\n",
    "from keras.optimizers import RMSprop\n",
    "from keras.callbacks import ModelCheckpoint, EarlyStopping\n",
    "from tensorflow.keras.preprocessing.image import ImageDataGenerator\n",
    "from tensorflow.keras.applications import InceptionResNetV2"
   ]
  },
  {
   "cell_type": "code",
   "execution_count": 4,
   "id": "ddfc00e003b755ba",
   "metadata": {
    "ExecuteTime": {
     "end_time": "2024-12-14T13:56:35.681837Z",
     "start_time": "2024-12-14T13:56:32.203540Z"
    }
   },
   "outputs": [
    {
     "name": "stderr",
     "output_type": "stream",
     "text": [
      "C:\\Users\\dttan\\AppData\\Roaming\\Python\\Python312\\site-packages\\onnxruntime\\capi\\onnxruntime_inference_collection.py:115: UserWarning: Specified provider 'CUDAExecutionProvider' is not in available provider names.Available providers: 'AzureExecutionProvider, CPUExecutionProvider'\n",
      "  warnings.warn(\n"
     ]
    },
    {
     "name": "stdout",
     "output_type": "stream",
     "text": [
      "Applied providers: ['CPUExecutionProvider'], with options: {'CPUExecutionProvider': {}}\n",
      "find model: C:\\Users\\dttan/.insightface\\models\\buffalo_l\\1k3d68.onnx landmark_3d_68 ['None', 3, 192, 192] 0.0 1.0\n",
      "Applied providers: ['CPUExecutionProvider'], with options: {'CPUExecutionProvider': {}}\n",
      "find model: C:\\Users\\dttan/.insightface\\models\\buffalo_l\\2d106det.onnx landmark_2d_106 ['None', 3, 192, 192] 0.0 1.0\n",
      "Applied providers: ['CPUExecutionProvider'], with options: {'CPUExecutionProvider': {}}\n",
      "find model: C:\\Users\\dttan/.insightface\\models\\buffalo_l\\det_10g.onnx detection [1, 3, '?', '?'] 127.5 128.0\n",
      "Applied providers: ['CPUExecutionProvider'], with options: {'CPUExecutionProvider': {}}\n",
      "find model: C:\\Users\\dttan/.insightface\\models\\buffalo_l\\genderage.onnx genderage ['None', 3, 96, 96] 0.0 1.0\n",
      "Applied providers: ['CPUExecutionProvider'], with options: {'CPUExecutionProvider': {}}\n",
      "find model: C:\\Users\\dttan/.insightface\\models\\buffalo_l\\w600k_r50.onnx recognition ['None', 3, 112, 112] 127.5 127.5\n",
      "set det-size: (640, 640)\n"
     ]
    }
   ],
   "source": [
    "app = FaceAnalysis()\n",
    "app.prepare(ctx_id=0)\n",
    "\n",
    "if app.models:\n",
    "  detector = app.models.get('retinaface_r50_v1', None)\n",
    "  if detector:\n",
    "    detector.nms = 0.4"
   ]
  },
  {
   "cell_type": "code",
   "execution_count": 5,
   "id": "b0b363a0dc5e140b",
   "metadata": {
    "ExecuteTime": {
     "end_time": "2024-12-14T13:56:44.905290Z",
     "start_time": "2024-12-14T13:56:37.951485Z"
    }
   },
   "outputs": [
    {
     "name": "stdout",
     "output_type": "stream",
     "text": [
      "WARNING:tensorflow:From C:\\Users\\dttan\\AppData\\Roaming\\Python\\Python312\\site-packages\\keras\\src\\backend\\tensorflow\\core.py:204: The name tf.placeholder is deprecated. Please use tf.compat.v1.placeholder instead.\n",
      "\n"
     ]
    }
   ],
   "source": [
    "base_model = InceptionResNetV2(weights=\"imagenet\", include_top=False, input_shape=(224, 224, 3))\n",
    "for layer in base_model.layers:\n",
    "  layer.trainable = False\n",
    "num_classes = 5\n",
    "\n",
    "x = base_model.output\n",
    "x = GlobalMaxPooling2D()(x)\n",
    "x = Dense(1024, activation='relu')(x)\n",
    "predictions = Dense(num_classes, activation=\"softmax\")(x)\n",
    "\n",
    "model = Model(inputs=base_model.input, outputs=predictions)\n",
    "\n",
    "model.compile(optimizer=Adam(learning_rate=0.001), loss=\"categorical_crossentropy\", metrics=[\"accuracy\"])\n",
    "# print(model.summary())\n"
   ]
  },
  {
   "cell_type": "code",
   "execution_count": 4,
   "id": "fe9e8ad31cd255f3",
   "metadata": {
    "ExecuteTime": {
     "end_time": "2024-12-14T13:56:51.473967Z",
     "start_time": "2024-12-14T13:56:51.426538Z"
    }
   },
   "outputs": [
    {
     "name": "stdout",
     "output_type": "stream",
     "text": [
      "Found 100 images belonging to 5 classes.\n"
     ]
    },
    {
     "name": "stdout",
     "output_type": "stream",
     "text": [
      "Found 25 images belonging to 5 classes.\n",
      "Label Map: {0: 'Dang Tran Tan Luc', 1: 'Nguyen Thi Ngoc Diem', 2: 'Phung Khanh Duy', 3: 'Vo Nguyen Thanh Dieu', 4: 'Vo Thi Cam Tu'}\n"
     ]
    }
   ],
   "source": [
    "train_dir = \"D:/DangTranTanLuc/Data/Train\"\n",
    "val_dir = \"D:/DangTranTanLuc/Data/Validate\"\n",
    "\n",
    "train_datagen = ImageDataGenerator(\n",
    "    rescale=1.0 / 255.0,\n",
    "    rotation_range=30,\n",
    "    width_shift_range=0.2,\n",
    "    height_shift_range=0.2,\n",
    "    horizontal_flip=True,\n",
    "    validation_split=0.2,\n",
    "    fill_mode='nearest'\n",
    "\n",
    ")\n",
    "val_datagen = ImageDataGenerator(rescale=1.0 / 255)\n",
    "\n",
    "train_generator = train_datagen.flow_from_directory(\n",
    "    train_dir,\n",
    "    target_size=(224, 224),\n",
    "    batch_size=32,\n",
    "    class_mode=\"categorical\")\n",
    "validation_generator = train_datagen.flow_from_directory(\n",
    "    val_dir  ,\n",
    "    target_size=(224, 224),\n",
    "    batch_size=32,\n",
    "    class_mode=\"categorical\")\n",
    "label_map = train_generator.class_indices\n",
    "label_map = {v: k for k, v in label_map.items()}\n",
    "\n",
    "print(\"Label Map:\", label_map)"
   ]
  },
  {
   "cell_type": "code",
   "execution_count": 21,
   "id": "b48c61bcfc8e0509",
   "metadata": {
    "ExecuteTime": {
     "end_time": "2024-12-14T14:16:18.655026Z",
     "start_time": "2024-12-14T14:13:49.445758Z"
    }
   },
   "outputs": [
    {
     "name": "stdout",
     "output_type": "stream",
     "text": [
      "Epoch 1/25\n",
      "\u001b[1m4/4\u001b[0m \u001b[32m━━━━━━━━━━━━━━━━━━━━\u001b[0m\u001b[37m\u001b[0m \u001b[1m0s\u001b[0m 2s/step - accuracy: 0.8840 - loss: 0.2981\n",
      "Epoch 1: val_loss improved from inf to 1.46698, saving model to model.keras\n",
      "\u001b[1m4/4\u001b[0m \u001b[32m━━━━━━━━━━━━━━━━━━━━\u001b[0m\u001b[37m\u001b[0m \u001b[1m16s\u001b[0m 4s/step - accuracy: 0.8852 - loss: 0.2996 - val_accuracy: 0.6800 - val_loss: 1.4670\n",
      "Epoch 2/25\n",
      "\u001b[1m4/4\u001b[0m \u001b[32m━━━━━━━━━━━━━━━━━━━━\u001b[0m\u001b[37m\u001b[0m \u001b[1m0s\u001b[0m 27ms/step - accuracy: 0.0000e+00 - loss: 0.0000e+00\n",
      "Epoch 3/25\n",
      "\u001b[1m4/4\u001b[0m \u001b[32m━━━━━━━━━━━━━━━━━━━━\u001b[0m\u001b[37m\u001b[0m \u001b[1m0s\u001b[0m 2s/step - accuracy: 0.7591 - loss: 0.6125\n",
      "Epoch 3: val_loss improved from 1.46698 to 0.66183, saving model to model.keras\n",
      "\u001b[1m4/4\u001b[0m \u001b[32m━━━━━━━━━━━━━━━━━━━━\u001b[0m\u001b[37m\u001b[0m \u001b[1m16s\u001b[0m 4s/step - accuracy: 0.7573 - loss: 0.6221 - val_accuracy: 0.7600 - val_loss: 0.6618\n",
      "Epoch 4/25\n",
      "\u001b[1m4/4\u001b[0m \u001b[32m━━━━━━━━━━━━━━━━━━━━\u001b[0m\u001b[37m\u001b[0m \u001b[1m0s\u001b[0m 36ms/step - accuracy: 0.0000e+00 - loss: 0.0000e+00\n",
      "Epoch 5/25\n",
      "\u001b[1m4/4\u001b[0m \u001b[32m━━━━━━━━━━━━━━━━━━━━\u001b[0m\u001b[37m\u001b[0m \u001b[1m0s\u001b[0m 2s/step - accuracy: 0.8363 - loss: 0.3593\n",
      "Epoch 5: val_loss improved from 0.66183 to 0.64807, saving model to model.keras\n",
      "\u001b[1m4/4\u001b[0m \u001b[32m━━━━━━━━━━━━━━━━━━━━\u001b[0m\u001b[37m\u001b[0m \u001b[1m18s\u001b[0m 5s/step - accuracy: 0.8370 - loss: 0.3596 - val_accuracy: 0.7600 - val_loss: 0.6481\n",
      "Epoch 6/25\n",
      "\u001b[1m4/4\u001b[0m \u001b[32m━━━━━━━━━━━━━━━━━━━━\u001b[0m\u001b[37m\u001b[0m \u001b[1m0s\u001b[0m 35ms/step - accuracy: 0.0000e+00 - loss: 0.0000e+00\n",
      "Epoch 7/25\n",
      "\u001b[1m4/4\u001b[0m \u001b[32m━━━━━━━━━━━━━━━━━━━━\u001b[0m\u001b[37m\u001b[0m \u001b[1m0s\u001b[0m 3s/step - accuracy: 0.8608 - loss: 0.5338 \n",
      "Epoch 7: val_loss did not improve from 0.64807\n",
      "\u001b[1m4/4\u001b[0m \u001b[32m━━━━━━━━━━━━━━━━━━━━\u001b[0m\u001b[37m\u001b[0m \u001b[1m12s\u001b[0m 4s/step - accuracy: 0.8586 - loss: 0.5108 - val_accuracy: 0.4800 - val_loss: 1.5607\n",
      "Epoch 8/25\n",
      "\u001b[1m4/4\u001b[0m \u001b[32m━━━━━━━━━━━━━━━━━━━━\u001b[0m\u001b[37m\u001b[0m \u001b[1m0s\u001b[0m 35ms/step - accuracy: 0.0000e+00 - loss: 0.0000e+00\n",
      "Epoch 9/25\n",
      "\u001b[1m4/4\u001b[0m \u001b[32m━━━━━━━━━━━━━━━━━━━━\u001b[0m\u001b[37m\u001b[0m \u001b[1m0s\u001b[0m 2s/step - accuracy: 0.7687 - loss: 0.4420\n",
      "Epoch 9: val_loss did not improve from 0.64807\n",
      "\u001b[1m4/4\u001b[0m \u001b[32m━━━━━━━━━━━━━━━━━━━━\u001b[0m\u001b[37m\u001b[0m \u001b[1m12s\u001b[0m 3s/step - accuracy: 0.7810 - loss: 0.4246 - val_accuracy: 0.7200 - val_loss: 1.2169\n",
      "Epoch 10/25\n",
      "\u001b[1m4/4\u001b[0m \u001b[32m━━━━━━━━━━━━━━━━━━━━\u001b[0m\u001b[37m\u001b[0m \u001b[1m0s\u001b[0m 39ms/step - accuracy: 0.0000e+00 - loss: 0.0000e+00\n",
      "Epoch 11/25\n",
      "\u001b[1m4/4\u001b[0m \u001b[32m━━━━━━━━━━━━━━━━━━━━\u001b[0m\u001b[37m\u001b[0m \u001b[1m0s\u001b[0m 2s/step - accuracy: 0.8393 - loss: 0.5638\n",
      "Epoch 11: val_loss did not improve from 0.64807\n",
      "\u001b[1m4/4\u001b[0m \u001b[32m━━━━━━━━━━━━━━━━━━━━\u001b[0m\u001b[37m\u001b[0m \u001b[1m12s\u001b[0m 3s/step - accuracy: 0.8315 - loss: 0.5839 - val_accuracy: 0.6400 - val_loss: 0.7888\n",
      "Epoch 12/25\n",
      "\u001b[1m4/4\u001b[0m \u001b[32m━━━━━━━━━━━━━━━━━━━━\u001b[0m\u001b[37m\u001b[0m \u001b[1m0s\u001b[0m 38ms/step - accuracy: 0.0000e+00 - loss: 0.0000e+00\n",
      "Epoch 13/25\n",
      "\u001b[1m4/4\u001b[0m \u001b[32m━━━━━━━━━━━━━━━━━━━━\u001b[0m\u001b[37m\u001b[0m \u001b[1m0s\u001b[0m 2s/step - accuracy: 0.9051 - loss: 0.2886  \n",
      "Epoch 13: val_loss did not improve from 0.64807\n",
      "\u001b[1m4/4\u001b[0m \u001b[32m━━━━━━━━━━━━━━━━━━━━\u001b[0m\u001b[37m\u001b[0m \u001b[1m14s\u001b[0m 3s/step - accuracy: 0.9101 - loss: 0.2779 - val_accuracy: 0.6400 - val_loss: 1.1867\n",
      "Epoch 14/25\n",
      "\u001b[1m4/4\u001b[0m \u001b[32m━━━━━━━━━━━━━━━━━━━━\u001b[0m\u001b[37m\u001b[0m \u001b[1m0s\u001b[0m 38ms/step - accuracy: 0.0000e+00 - loss: 0.0000e+00\n",
      "Epoch 15/25\n",
      "\u001b[1m4/4\u001b[0m \u001b[32m━━━━━━━━━━━━━━━━━━━━\u001b[0m\u001b[37m\u001b[0m \u001b[1m0s\u001b[0m 2s/step - accuracy: 0.9086 - loss: 0.2557\n",
      "Epoch 15: val_loss did not improve from 0.64807\n",
      "\u001b[1m4/4\u001b[0m \u001b[32m━━━━━━━━━━━━━━━━━━━━\u001b[0m\u001b[37m\u001b[0m \u001b[1m11s\u001b[0m 3s/step - accuracy: 0.9069 - loss: 0.2626 - val_accuracy: 0.7600 - val_loss: 0.8939\n",
      "Epoch 16/25\n",
      "\u001b[1m4/4\u001b[0m \u001b[32m━━━━━━━━━━━━━━━━━━━━\u001b[0m\u001b[37m\u001b[0m \u001b[1m0s\u001b[0m 33ms/step - accuracy: 0.0000e+00 - loss: 0.0000e+00\n",
      "Epoch 17/25\n",
      "\u001b[1m4/4\u001b[0m \u001b[32m━━━━━━━━━━━━━━━━━━━━\u001b[0m\u001b[37m\u001b[0m \u001b[1m0s\u001b[0m 2s/step - accuracy: 0.9129 - loss: 0.2903\n",
      "Epoch 17: val_loss did not improve from 0.64807\n",
      "\u001b[1m4/4\u001b[0m \u001b[32m━━━━━━━━━━━━━━━━━━━━\u001b[0m\u001b[37m\u001b[0m \u001b[1m11s\u001b[0m 3s/step - accuracy: 0.9123 - loss: 0.2846 - val_accuracy: 0.4400 - val_loss: 2.3958\n",
      "Epoch 17: early stopping\n",
      "Restoring model weights from the end of the best epoch: 5.\n"
     ]
    }
   ],
   "source": [
    "checkpoint = ModelCheckpoint(\"model.keras\",\n",
    "                             monitor=\"val_loss\",\n",
    "                             mode=\"min\",\n",
    "                             save_best_only = True,\n",
    "                             verbose=1)\n",
    "\n",
    "earlystop = EarlyStopping(monitor = 'val_loss',\n",
    "                          min_delta = 0,\n",
    "                          patience = 6,\n",
    "                          verbose = 1,\n",
    "                          restore_best_weights = True)\n",
    "\n",
    "callbacks = [earlystop, checkpoint]\n",
    "history = model.fit(\n",
    "    train_generator,\n",
    "    validation_data=validation_generator,\n",
    "    epochs=25,\n",
    "    callbacks = callbacks,\n",
    "    steps_per_epoch=len(train_generator),\n",
    "    validation_steps=len(validation_generator),\n",
    ")\n"
   ]
  },
  {
   "cell_type": "code",
   "execution_count": 15,
   "id": "c6ccfdf9bd00ebae",
   "metadata": {
    "ExecuteTime": {
     "end_time": "2024-12-14T14:18:05.834911Z",
     "start_time": "2024-12-14T14:18:05.594232Z"
    }
   },
   "outputs": [
    {
     "data": {
      "image/png": "[encoded data removed]",
      "text/plain": [
       "<Figure size 640x480 with 1 Axes>"
      ]
     },
     "metadata": {},
     "output_type": "display_data"
    }
   ],
   "source": [
    "import matplotlib.pyplot as plt\n",
    "\n",
    "plt.plot(history.history['accuracy'])\n",
    "plt.plot(history.history['val_accuracy'])\n",
    "plt.title('Model Accuracy')\n",
    "plt.ylabel('Accuracy')\n",
    "plt.xlabel('Epoch')\n",
    "plt.legend(['Train', 'Validation'], loc='upper left')\n",
    "plt.show()\n"
   ]
  },
  {
   "cell_type": "code",
   "execution_count": 7,
   "id": "d200197b489f3b9f",
   "metadata": {
    "ExecuteTime": {
     "end_time": "2024-12-17T07:34:06.785359Z",
     "start_time": "2024-12-17T07:34:04.766835Z"
    }
   },
   "outputs": [
    {
     "name": "stdout",
     "output_type": "stream",
     "text": [
      "Class - Vo Nguyen Thanh Dieu\n",
      "Class - Phung Khanh Duy\n",
      "Class - Phung Khanh Duy\n",
      "Class - Vo Thi Cam Tu\n",
      "Class - Vo Thi Cam Tu\n",
      "Class - Vo Nguyen Thanh Dieu\n",
      "Class - Vo Nguyen Thanh Dieu\n",
      "Class - Dang Tran Tan Luc\n",
      "Class - Phung Khanh Duy\n",
      "Class - Vo Thi Cam Tu\n"
     ]
    }
   ],
   "source": [
    "classifier = load_model(\"D:/DangTranTanLuc/Python/ProjectPy/FaceRecognitionSystem/model.keras\")\n",
    "\n",
    "\n",
    "def draw_test(name, pred, im):\n",
    "    face = label_map[pred[0]]\n",
    "    BLACK = [0,0,0]\n",
    "    expanded_image = cv2.copyMakeBorder(im, 80, 0, 0, 100 ,cv2.BORDER_CONSTANT,value=BLACK)\n",
    "    cv2.putText(expanded_image, face, (20, 60) , cv2.FONT_HERSHEY_SIMPLEX,0.5, (0,0,255), 1)\n",
    "    cv2.imshow(\"Prediction\", expanded_image)\n",
    "\n",
    "def getRandomImage(path):\n",
    "    \"\"\"function loads a random images from a random folder in our test path \"\"\"\n",
    "    folders = list(filter(lambda x: os.path.isdir(os.path.join(path, x)), os.listdir(path)))\n",
    "    random_directory = np.random.randint(0,len(folders))\n",
    "    path_class = folders[random_directory]\n",
    "    print(\"Class - \" + path_class)\n",
    "    file_path = path + path_class\n",
    "    file_names = [f for f in listdir(file_path) if isfile(join(file_path, f))]\n",
    "    random_file_index = np.random.randint(0,len(file_names))\n",
    "    image_name = file_names[random_file_index]\n",
    "    return cv2.imread(file_path+\"/\"+image_name)\n",
    "\n",
    "for i in range(0,10):\n",
    "    input_im = getRandomImage(\"D:/DangTranTanLuc/Data/Validate/\")\n",
    "    input_original = input_im.copy()\n",
    "    input_original = cv2.resize(input_original, None, fx=0.5, fy=0.5, interpolation = cv2.INTER_LINEAR)\n",
    "\n",
    "    input_im = cv2.resize(input_im, (224, 224), interpolation = cv2.INTER_LINEAR)\n",
    "    input_im = input_im / 255.\n",
    "    input_im = input_im.reshape(1,224,224,3)\n",
    "\n",
    "    res = np.argmax(classifier.predict(input_im, 1, verbose = 0), axis=1)\n",
    "\n",
    "    draw_test(\"Prediction\", res, input_original)\n",
    "    cv2.waitKey(0)\n",
    "\n",
    "cv2.destroyAllWindows()"
   ]
  },
  {
   "cell_type": "code",
   "execution_count": 8,
   "id": "4085f56934b41f7d",
   "metadata": {
    "ExecuteTime": {
     "end_time": "2024-12-17T07:34:24.166034Z",
     "start_time": "2024-12-17T07:34:19.270671Z"
    }
   },
   "outputs": [],
   "source": [
    "classifier = load_model(\"D:/DangTranTanLuc/Python/ProjectPy/FaceRecognitionSystem/model.keras\")\n",
    "face_cascade = cv2.CascadeClassifier(cv2.data.haarcascades + 'haarcascade_frontalface_default.xml')"
   ]
  },
  {
   "cell_type": "code",
   "execution_count": 9,
   "id": "5ec5916d4dfd78f5",
   "metadata": {
    "ExecuteTime": {
     "end_time": "2024-12-17T07:39:50.494624Z",
     "start_time": "2024-12-17T07:37:55.836787Z"
    }
   },
   "outputs": [
    {
     "name": "stdout",
     "output_type": "stream",
     "text": [
      "\u001b[1m1/1\u001b[0m \u001b[32m━━━━━━━━━━━━━━━━━━━━\u001b[0m\u001b[37m\u001b[0m \u001b[1m11s\u001b[0m 11s/step\n"
     ]
    }
   ],
   "source": [
    "import cv2\n",
    "import numpy as np\n",
    "from PIL import Image\n",
    "\n",
    "label_map = {0: 'Dang Tran Tan Luc', 1: 'Nguyen Thi Ngoc Diem', 2: 'Phung Khanh Duy', 3: 'Vo Nguyen Thanh Dieu', 4: 'Vo Thi Cam Tu'}\n",
    "\n",
    "\n",
    "def face_extractor(img):\n",
    "    faces = face_cascade.detectMultiScale(img, 1.3, 5)\n",
    "    if len(faces) == 0: \n",
    "        return None\n",
    "\n",
    "    for (x, y, w, h) in faces:\n",
    "        cv2.rectangle(img, (x, y), (x + w, y + h), (0, 255, 255), 2)\n",
    "        cropped_face = img[y:y + h, x:x + w]\n",
    "        return cropped_face \n",
    "\n",
    "    return None\n",
    "\n",
    "video_capture = cv2.VideoCapture(0)\n",
    "\n",
    "if not video_capture.isOpened():\n",
    "    print(\"Error: Cannot access the webcam.\")\n",
    "    exit()\n",
    "\n",
    "while True:\n",
    "    ret, frame = video_capture.read() \n",
    "    if not ret:\n",
    "        print(\"Failed to capture frame. Exiting...\")\n",
    "        break\n",
    "\n",
    "    face = face_extractor(frame)\n",
    "    if face is not None:\n",
    "        try:\n",
    "            face = cv2.resize(face, (224, 224))\n",
    "            im = Image.fromarray(face, 'RGB')\n",
    "            img_array = np.array(im)\n",
    "            img_array = np.expand_dims(img_array, axis=0) / 255.0\n",
    "\n",
    "            pred = classifier.predict(img_array)\n",
    "            predicted_class = np.argmax(pred, axis=1)\n",
    "            name = label_map[predicted_class[0]]\n",
    "\n",
    "            cv2.putText(frame, name, (50, 50), cv2.FONT_HERSHEY_COMPLEX, 1, (0, 255, 0), 2)\n",
    "        except Exception as e:\n",
    "            print(f\"Error during face processing: {e}\")\n",
    "    else:\n",
    "        cv2.putText(frame, \"No face detected\", (50, 50), cv2.FONT_HERSHEY_COMPLEX, 1, (0, 255, 0), 2)\n",
    "\n",
    "    if frame is not None and frame.size > 0:\n",
    "        cv2.imshow('Video', frame)\n",
    "    else:\n",
    "        print(\"Empty frame detected. Skipping...\")\n",
    "\n",
    "    if cv2.waitKey(1) & 0xFF == ord('q'):\n",
    "        break\n",
    "\n",
    "video_capture.release()\n",
    "cv2.destroyAllWindows()"
   ]
  },
  {
   "cell_type": "code",
   "execution_count": 6,
   "id": "4dabc2e21e0687b4",
   "metadata": {
    "ExecuteTime": {
     "end_time": "2024-12-17T07:39:50.528494Z",
     "start_time": "2024-12-17T07:39:50.520679Z"
    }
   },
   "outputs": [],
   "source": [
    "from tensorflow.keras.preprocessing import image\n",
    "from tensorflow.keras.applications.resnet50 import ResNet50, preprocess_input\n",
    "import numpy as np"
   ]
  },
  {
   "cell_type": "code",
   "execution_count": 7,
   "id": "5d648499",
   "metadata": {},
   "outputs": [
    {
     "name": "stdout",
     "output_type": "stream",
     "text": [
      "[[[[ -52.939003  -61.779     -67.68    ]\n",
      "   [ -52.939003  -61.779     -67.68    ]\n",
      "   [ -52.939003  -61.779     -67.68    ]\n",
      "   ...\n",
      "   [ -69.939     -76.779     -76.68    ]\n",
      "   [ -68.939     -75.779     -75.68    ]\n",
      "   [ -68.939     -75.779     -75.68    ]]\n",
      "\n",
      "  [[ -51.939003  -60.779     -66.68    ]\n",
      "   [ -51.939003  -60.779     -66.68    ]\n",
      "   [ -51.939003  -60.779     -66.68    ]\n",
      "   ...\n",
      "   [ -69.939     -76.779     -76.68    ]\n",
      "   [ -68.939     -75.779     -75.68    ]\n",
      "   [ -68.939     -75.779     -75.68    ]]\n",
      "\n",
      "  [[ -53.939003  -60.779     -68.68    ]\n",
      "   [ -53.939003  -60.779     -68.68    ]\n",
      "   [ -53.939003  -60.779     -68.68    ]\n",
      "   ...\n",
      "   [ -71.939     -76.779     -76.68    ]\n",
      "   [ -71.939     -75.779     -75.68    ]\n",
      "   [ -71.939     -75.779     -75.68    ]]\n",
      "\n",
      "  ...\n",
      "\n",
      "  [[ -94.939    -106.779    -106.68    ]\n",
      "   [ -92.939    -100.779     -94.68    ]\n",
      "   [ -92.939     -94.779     -79.68    ]\n",
      "   ...\n",
      "   [   8.060997   15.221001   24.32    ]\n",
      "   [  15.060997   20.221      28.32    ]\n",
      "   [  17.060997   21.221      29.32    ]]\n",
      "\n",
      "  [[ -94.939    -106.779    -108.68    ]\n",
      "   [ -94.939    -102.779     -98.68    ]\n",
      "   [ -95.939     -97.779     -84.68    ]\n",
      "   ...\n",
      "   [  11.060997   18.221      26.32    ]\n",
      "   [  16.060997   21.221      30.32    ]\n",
      "   [  18.060997   22.221      29.32    ]]\n",
      "\n",
      "  [[ -97.939    -108.779    -108.68    ]\n",
      "   [ -95.939    -103.779    -102.68    ]\n",
      "   [ -98.939    -103.779     -93.68    ]\n",
      "   ...\n",
      "   [  16.060997   20.221      29.32    ]\n",
      "   [  17.060997   21.221      30.32    ]\n",
      "   [  18.060997   22.221      29.32    ]]]]\n"
     ]
    }
   ],
   "source": [
    "base_model = ResNet50(weights=\"imagenet\", include_top=False, pooling='avg')\n",
    "img_path = \"C:\\\\Users\\\\dttan\\\\Pictures\\\\danxinhiu.png\"\n",
    "img = image.load_img(img_path, target_size=(224, 224))  \n",
    "\n",
    "img_array = image.img_to_array(img)  \n",
    "img_array = np.expand_dims(img_array, axis=0) \n",
    "img_array = preprocess_input(img_array) \n",
    "print(img_array)\n"
   ]
  },
  {
   "cell_type": "code",
   "execution_count": 22,
   "id": "7eb7733f",
   "metadata": {},
   "outputs": [],
   "source": [
    "from tensorflow.keras.models import Model\n",
    "import numpy as np\n",
    "from tensorflow.keras.preprocessing.image import img_to_array, load_img\n",
    "from scipy.spatial.distance import cosine\n",
    "import os"
   ]
  },
  {
   "cell_type": "markdown",
   "id": "13218c72",
   "metadata": {},
   "source": [
    "trích xuất dưới dạng vector embedding \n"
   ]
  },
  {
   "cell_type": "code",
   "execution_count": 23,
   "id": "8351b272",
   "metadata": {},
   "outputs": [],
   "source": [
    "embedding_model = Model(inputs = base_model.input, outputs = x)\n",
    "\n",
    "#load ảnh lên và chuyển sang arr\n",
    "def extract_embedding (model, image_path):\n",
    "    img = load_img(image_path, target_size=(224,224))\n",
    "    img.show()\n",
    "    img_array = img_to_array(img)\n",
    "    img_array = np.expand_dims(img_array, axis=0)\n",
    "    print(img_array)\n",
    "\n",
    "    embedding = model.predict(img_array)\n",
    "    print(embedding)\n",
    "    return embedding[0]"
   ]
  },
  {
   "cell_type": "code",
   "execution_count": 24,
   "id": "a0f0aaf3",
   "metadata": {},
   "outputs": [],
   "source": [
    "def extract_embeddings_from_folder(model, folder_path):\n",
    "    embeddings =[]\n",
    "    list_folder =[]\n",
    "    \n",
    "    for file_name in os.listdir(folder_path):\n",
    "        file_path = os.path.join(folder_path, file_name)\n",
    "        if file_name.lower().endswith(('jpg','png', 'jpeg')):\n",
    "            try:\n",
    "                embedding = extract_embedding(model, file_path)\n",
    "                embeddings.append(embedding)\n",
    "                list_folder.append(file_path)\n",
    "            except Exception as e:\n",
    "                print(f\"Error when process {file_path}:{e}\")\n",
    "    return embedding, list_folder  "
   ]
  },
  {
   "cell_type": "code",
   "execution_count": null,
   "id": "5b4a6286",
   "metadata": {},
   "outputs": [],
   "source": [
    "folder_path = \"D:\\python\\FaceRecognitionSystem\\Data\\Jisoo\"\n",
    "embeddings, file_paths = extract_embeddings_from_folder(embedding_model, folder_path)\n",
    "print(\"Tất cả embedding đã trích xuất:\")\n",
    "for path, embedding in zip(file_paths, embeddings):\n",
    "        print(f\"Ảnh: {path} - Embedding: {embedding}\")\n",
    "\n"
   ]
  },
  {
   "cell_type": "code",
   "execution_count": null,
   "id": "ad26d6f0",
   "metadata": {},
   "outputs": [],
   "source": [
    "import os\n",
    "import matplotlib.pyplot as plt\n",
    "import cv2 \n",
    "\n",
    "folder_path = \"D:/DangTranTanLuc/Data/Jisoo\"\n",
    "\n",
    "for path in file_paths:\n",
    "    img = cv2.imread(path)\n",
    "    \n",
    "    img = cv2.cvtColor(img, cv2.COLOR_BGR2RGB)\n",
    "    \n",
    "    plt.imshow(img)\n",
    "    plt.axis('off')  \n",
    "    plt.show()\n"
   ]
  },
  {
   "cell_type": "code",
   "execution_count": 27,
   "id": "c8ea9daa",
   "metadata": {},
   "outputs": [
    {
     "name": "stdout",
     "output_type": "stream",
     "text": [
      "Jisoo\n",
      "['D:\\\\python\\\\FaceRecognitionSystem\\\\Data\\\\Jisoo\\\\Jisoo - 1.png', 'D:\\\\python\\\\FaceRecognitionSystem\\\\Data\\\\Jisoo\\\\Jisoo - 10.png', 'D:\\\\python\\\\FaceRecognitionSystem\\\\Data\\\\Jisoo\\\\Jisoo - 2.png', 'D:\\\\python\\\\FaceRecognitionSystem\\\\Data\\\\Jisoo\\\\Jisoo - 3.png', 'D:\\\\python\\\\FaceRecognitionSystem\\\\Data\\\\Jisoo\\\\Jisoo - 4.png', 'D:\\\\python\\\\FaceRecognitionSystem\\\\Data\\\\Jisoo\\\\Jisoo - 5.png', 'D:\\\\python\\\\FaceRecognitionSystem\\\\Data\\\\Jisoo\\\\Jisoo - 6.png', 'D:\\\\python\\\\FaceRecognitionSystem\\\\Data\\\\Jisoo\\\\Jisoo - 7.png', 'D:\\\\python\\\\FaceRecognitionSystem\\\\Data\\\\Jisoo\\\\Jisoo - 8.png', 'D:\\\\python\\\\FaceRecognitionSystem\\\\Data\\\\Jisoo\\\\Jisoo - 9.png']\n"
     ]
    },
    {
     "name": "stderr",
     "output_type": "stream",
     "text": [
      "<>:6: SyntaxWarning: invalid escape sequence '\\p'\n",
      "<>:18: SyntaxWarning: invalid escape sequence '\\p'\n",
      "<>:6: SyntaxWarning: invalid escape sequence '\\p'\n",
      "<>:18: SyntaxWarning: invalid escape sequence '\\p'\n",
      "C:\\Users\\dttan\\AppData\\Local\\Temp\\ipykernel_17696\\37931270.py:6: SyntaxWarning: invalid escape sequence '\\p'\n",
      "  folder_path = \"D:\\python\\FaceRecognitionSystem\\Data\\Jisoo\"\n",
      "C:\\Users\\dttan\\AppData\\Local\\Temp\\ipykernel_17696\\37931270.py:18: SyntaxWarning: invalid escape sequence '\\p'\n",
      "  folder_path = \"D:\\python\\FaceRecognitionSystem\\Data\\Jisoo\"\n"
     ]
    }
   ],
   "source": [
    "def get_file_name(folder_path):\n",
    "    file_name = os.path.basename(folder_path) \n",
    "    return file_name\n",
    "\n",
    "\n",
    "folder_path = \"D:\\python\\FaceRecognitionSystem\\Data\\Jisoo\"\n",
    "print(get_file_name(folder_path))\n",
    "\n",
    "\n",
    "def list_files_in_folder(folder_path):\n",
    "    files = [f for f in os.listdir(folder_path) if os.path.isfile(os.path.join(folder_path, f))]\n",
    "    \n",
    "    file_path = [os.path.join(folder_path, f) for f in files]\n",
    "    # files_name_without_extension = [os.path.splitext(f)[0] for f in files]\n",
    "    # return files_name_without_extension\n",
    "    return file_path\n",
    "\n",
    "folder_path = \"D:\\python\\FaceRecognitionSystem\\Data\\Jisoo\"\n",
    "file_list = list_files_in_folder(folder_path)\n",
    "print(file_list)"
   ]
  },
  {
   "cell_type": "code",
   "execution_count": null,
   "id": "82f2f7e2",
   "metadata": {},
   "outputs": [],
   "source": [
    "#thêm ảnh vào 1 cái dictdict\n",
    "\n",
    "def add_new_class(embedding_dict, class_name, image_paths, model):\n",
    "    embeddings =[]\n",
    "    for image_path in image_paths:\n",
    "        embedding = extract_embedding(model, image_path)\n",
    "        embeddings.append(embedding)\n",
    "       \n",
    "    embedding_dict[class_name] = embeddings\n",
    "    print(\"Tất cả các embedding đã thêm vào dictionary:\")\n",
    "    \n",
    "    print(embedding_dict.items())\n",
    "class_embeddings = {\"class_name\":[]}\n",
    "\n",
    "folder_path = \"D:\\python\\FaceRecognitionSystem\\Data\\Jisoo\"\n",
    "folder_path2 =  \"D:\\python\\FaceRecognitionSystem\\Data\\Rose\"\n",
    "image_paths = list_files_in_folder(folder_path) \n",
    "image_paths2 = list_files_in_folder(folder_path2)\n",
    "add_new_class(class_embeddings, get_file_name(folder_path ), image_paths, embedding_model)\n",
    "add_new_class(class_embeddings, get_file_name(folder_path2 ), image_paths2, embedding_model)\n",
    "\n"
   ]
  },
  {
   "cell_type": "code",
   "execution_count": 29,
   "id": "16293011",
   "metadata": {},
   "outputs": [],
   "source": [
    "#tính khoảng cách cosin giữa 2 vector \n",
    "def predict_class(embeddings_dict, new_image_embedding):\n",
    "    min_distance = float(\"inf\")\n",
    "    predict_class = None\n",
    "\n",
    "    for class_name, embeddings in embeddings_dict.items():\n",
    "        for embedding in embeddings:\n",
    "            distance = cosine(new_image_embedding, embedding)\n",
    "            if distance < min_distance:\n",
    "                min_distance = distance\n",
    "                predict_class = class_name\n",
    "            else:\n",
    "                print('Unknown person')\n",
    "\n",
    "    return predict_class"
   ]
  },
  {
   "cell_type": "code",
   "execution_count": 34,
   "id": "7a6d16c3",
   "metadata": {},
   "outputs": [
    {
     "name": "stdout",
     "output_type": "stream",
     "text": [
      "[[[[ 17.  28.  24.]\n",
      "   [ 19.  31.  26.]\n",
      "   [ 15.  26.  22.]\n",
      "   ...\n",
      "   [ 14.  32.  28.]\n",
      "   [ 13.  26.  24.]\n",
      "   [ 12.  22.  21.]]\n",
      "\n",
      "  [[ 17.  32.  27.]\n",
      "   [ 18.  32.  27.]\n",
      "   [ 16.  29.  24.]\n",
      "   ...\n",
      "   [ 14.  30.  27.]\n",
      "   [ 12.  25.  23.]\n",
      "   [  9.  20.  19.]]\n",
      "\n",
      "  [[ 19.  34.  29.]\n",
      "   [ 17.  32.  27.]\n",
      "   [ 16.  29.  24.]\n",
      "   ...\n",
      "   [  9.  25.  22.]\n",
      "   [  7.  22.  20.]\n",
      "   [  8.  18.  17.]]\n",
      "\n",
      "  ...\n",
      "\n",
      "  [[218. 173. 136.]\n",
      "   [211. 167. 132.]\n",
      "   [210. 168. 132.]\n",
      "   ...\n",
      "   [217. 177. 144.]\n",
      "   [217. 175. 143.]\n",
      "   [217. 173. 141.]]\n",
      "\n",
      "  [[212. 168. 132.]\n",
      "   [211. 167. 132.]\n",
      "   [212. 169. 134.]\n",
      "   ...\n",
      "   [217. 176. 144.]\n",
      "   [218. 176. 145.]\n",
      "   [219. 174. 143.]]\n",
      "\n",
      "  [[210. 168. 132.]\n",
      "   [215. 171. 136.]\n",
      "   [215. 171. 136.]\n",
      "   ...\n",
      "   [213. 172. 140.]\n",
      "   [218. 177. 145.]\n",
      "   [220. 180. 145.]]]]\n",
      "\u001b[1m1/1\u001b[0m \u001b[32m━━━━━━━━━━━━━━━━━━━━\u001b[0m\u001b[37m\u001b[0m \u001b[1m0s\u001b[0m 153ms/step\n",
      "[[ 84.293526   0.       185.87666  ...   0.       106.1068     0.      ]]\n",
      "Unknown person\n",
      "Unknown person\n",
      "Unknown person\n",
      "Unknown person\n",
      "Unknown person\n",
      "Unknown person\n",
      "Unknown person\n",
      "Unknown person\n",
      "Unknown person\n",
      "Unknown person\n",
      "Unknown person\n",
      "Unknown person\n",
      "Unknown person\n",
      "Unknown person\n",
      "Unknown person\n",
      "Unknown person\n",
      "Unknown person\n",
      "Predicted Class: Rose\n"
     ]
    }
   ],
   "source": [
    "# new_image_path = \"D:\\python\\FaceRecognitionSystem\\Data\\Train\\Dang Tran Tan Luc\\Dang Tran Tan Luc - 3.png\"\n",
    "new_image_path = \"D:/python/FaceRecognitionSystem/Data/Dang Tran Tan Luc - 3.png\"\n",
    "\n",
    "new_embedding = extract_embedding(embedding_model, new_image_path)\n",
    "\n",
    "predicted_class = predict_class(class_embeddings, new_embedding)\n",
    "print(\"Predicted Class:\", predicted_class)\n"
   ]
  }
 ],
 "metadata": {
  "kernelspec": {
   "display_name": "Python 3",
   "language": "python",
   "name": "python3"
  },
  "language_info": {
   "codemirror_mode": {
    "name": "ipython",
    "version": 3
   },
   "file_extension": ".py",
   "mimetype": "text/x-python",
   "name": "python",
   "nbconvert_exporter": "python",
   "pygments_lexer": "ipython3",
   "version": "3.12.7"
  }
 },
 "nbformat": 4,
 "nbformat_minor": 5
}
